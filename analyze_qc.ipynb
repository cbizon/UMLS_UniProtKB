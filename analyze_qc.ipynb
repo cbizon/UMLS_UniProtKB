{
 "cells": [
  {
   "cell_type": "code",
   "id": "initial_id",
   "metadata": {
    "collapsed": true,
    "ExecuteTime": {
     "end_time": "2024-10-05T19:15:14.245786Z",
     "start_time": "2024-10-05T19:15:14.217641Z"
    }
   },
   "source": "import pandas as pd",
   "outputs": [],
   "execution_count": 39
  },
  {
   "metadata": {
    "ExecuteTime": {
     "end_time": "2024-10-05T19:15:17.426815Z",
     "start_time": "2024-10-05T19:15:17.336236Z"
    }
   },
   "cell_type": "code",
   "source": [
    "# Load the data\n",
    "df = pd.read_csv(\"outputs/batch_qc.tsv\", sep=\"\\t\", names=[\"UMLS\", \"UniProtKB\", \"score\", \"correct\"])"
   ],
   "id": "85d7dcc7dd3e8231",
   "outputs": [],
   "execution_count": 40
  },
  {
   "metadata": {
    "ExecuteTime": {
     "end_time": "2024-10-05T19:15:18.816149Z",
     "start_time": "2024-10-05T19:15:18.794543Z"
    }
   },
   "cell_type": "code",
   "source": "df",
   "id": "b3fdd1199b6329ef",
   "outputs": [
    {
     "data": {
      "text/plain": [
       "                UMLS             UniProtKB  score correct\n",
       "0      UMLS:C0018664  UniProtKB:A0A087WYZ4      5    good\n",
       "1      UMLS:C0018664      UniProtKB:P01215      5    good\n",
       "2      UMLS:C0018664      UniProtKB:Q6I9S8      5    good\n",
       "3      UMLS:C0020063      UniProtKB:P01270      5    good\n",
       "4      UMLS:C0049866  UniProtKB:A0A024R5F7      4    good\n",
       "...              ...                   ...    ...     ...\n",
       "25184  UMLS:C0289403      UniProtKB:Q9Y3R5      1     bad\n",
       "25185  UMLS:C5882361                B7Z242      3    good\n",
       "25186  UMLS:C5882361                P27338      2    good\n",
       "25187  UMLS:C5882379            A0A0S2Z2Z6      2    good\n",
       "25188  UMLS:C5882379                P08133      5    good\n",
       "\n",
       "[25189 rows x 4 columns]"
      ],
      "text/html": [
       "<div>\n",
       "<style scoped>\n",
       "    .dataframe tbody tr th:only-of-type {\n",
       "        vertical-align: middle;\n",
       "    }\n",
       "\n",
       "    .dataframe tbody tr th {\n",
       "        vertical-align: top;\n",
       "    }\n",
       "\n",
       "    .dataframe thead th {\n",
       "        text-align: right;\n",
       "    }\n",
       "</style>\n",
       "<table border=\"1\" class=\"dataframe\">\n",
       "  <thead>\n",
       "    <tr style=\"text-align: right;\">\n",
       "      <th></th>\n",
       "      <th>UMLS</th>\n",
       "      <th>UniProtKB</th>\n",
       "      <th>score</th>\n",
       "      <th>correct</th>\n",
       "    </tr>\n",
       "  </thead>\n",
       "  <tbody>\n",
       "    <tr>\n",
       "      <th>0</th>\n",
       "      <td>UMLS:C0018664</td>\n",
       "      <td>UniProtKB:A0A087WYZ4</td>\n",
       "      <td>5</td>\n",
       "      <td>good</td>\n",
       "    </tr>\n",
       "    <tr>\n",
       "      <th>1</th>\n",
       "      <td>UMLS:C0018664</td>\n",
       "      <td>UniProtKB:P01215</td>\n",
       "      <td>5</td>\n",
       "      <td>good</td>\n",
       "    </tr>\n",
       "    <tr>\n",
       "      <th>2</th>\n",
       "      <td>UMLS:C0018664</td>\n",
       "      <td>UniProtKB:Q6I9S8</td>\n",
       "      <td>5</td>\n",
       "      <td>good</td>\n",
       "    </tr>\n",
       "    <tr>\n",
       "      <th>3</th>\n",
       "      <td>UMLS:C0020063</td>\n",
       "      <td>UniProtKB:P01270</td>\n",
       "      <td>5</td>\n",
       "      <td>good</td>\n",
       "    </tr>\n",
       "    <tr>\n",
       "      <th>4</th>\n",
       "      <td>UMLS:C0049866</td>\n",
       "      <td>UniProtKB:A0A024R5F7</td>\n",
       "      <td>4</td>\n",
       "      <td>good</td>\n",
       "    </tr>\n",
       "    <tr>\n",
       "      <th>...</th>\n",
       "      <td>...</td>\n",
       "      <td>...</td>\n",
       "      <td>...</td>\n",
       "      <td>...</td>\n",
       "    </tr>\n",
       "    <tr>\n",
       "      <th>25184</th>\n",
       "      <td>UMLS:C0289403</td>\n",
       "      <td>UniProtKB:Q9Y3R5</td>\n",
       "      <td>1</td>\n",
       "      <td>bad</td>\n",
       "    </tr>\n",
       "    <tr>\n",
       "      <th>25185</th>\n",
       "      <td>UMLS:C5882361</td>\n",
       "      <td>B7Z242</td>\n",
       "      <td>3</td>\n",
       "      <td>good</td>\n",
       "    </tr>\n",
       "    <tr>\n",
       "      <th>25186</th>\n",
       "      <td>UMLS:C5882361</td>\n",
       "      <td>P27338</td>\n",
       "      <td>2</td>\n",
       "      <td>good</td>\n",
       "    </tr>\n",
       "    <tr>\n",
       "      <th>25187</th>\n",
       "      <td>UMLS:C5882379</td>\n",
       "      <td>A0A0S2Z2Z6</td>\n",
       "      <td>2</td>\n",
       "      <td>good</td>\n",
       "    </tr>\n",
       "    <tr>\n",
       "      <th>25188</th>\n",
       "      <td>UMLS:C5882379</td>\n",
       "      <td>P08133</td>\n",
       "      <td>5</td>\n",
       "      <td>good</td>\n",
       "    </tr>\n",
       "  </tbody>\n",
       "</table>\n",
       "<p>25189 rows × 4 columns</p>\n",
       "</div>"
      ]
     },
     "execution_count": 41,
     "metadata": {},
     "output_type": "execute_result"
    }
   ],
   "execution_count": 41
  },
  {
   "metadata": {
    "ExecuteTime": {
     "end_time": "2024-10-05T19:15:52.903707Z",
     "start_time": "2024-10-05T19:15:52.836037Z"
    }
   },
   "cell_type": "code",
   "source": [
    "idx = df.groupby(['UMLS','correct'])['score'].idxmax()\n",
    "df_highest_score = df.loc[idx]\n"
   ],
   "id": "44e3a37d0285a138",
   "outputs": [],
   "execution_count": 42
  },
  {
   "metadata": {
    "ExecuteTime": {
     "end_time": "2024-10-05T19:16:00.261989Z",
     "start_time": "2024-10-05T19:16:00.228062Z"
    }
   },
   "cell_type": "code",
   "source": [
    "count_table = pd.crosstab(df['score'], df['correct'])\n",
    "\n",
    "print(count_table)"
   ],
   "id": "41d76f47a0935c8f",
   "outputs": [
    {
     "name": "stdout",
     "output_type": "stream",
     "text": [
      "correct   bad   good\n",
      "score               \n",
      "0        1389    225\n",
      "1         682    797\n",
      "2          94   1011\n",
      "3          22   1270\n",
      "4          31   1805\n",
      "5          33  17830\n"
     ]
    }
   ],
   "execution_count": 43
  },
  {
   "metadata": {
    "ExecuteTime": {
     "end_time": "2024-10-05T19:16:09.508189Z",
     "start_time": "2024-10-05T19:16:09.492960Z"
    }
   },
   "cell_type": "code",
   "source": [
    "count_table = pd.crosstab(df_highest_score['score'], df_highest_score['correct'])\n",
    "print(count_table)"
   ],
   "id": "14df49bc928570de",
   "outputs": [
    {
     "name": "stdout",
     "output_type": "stream",
     "text": [
      "correct  bad   good\n",
      "score              \n",
      "0        846     22\n",
      "1        375     64\n",
      "2         34     45\n",
      "3         12     25\n",
      "4         17    113\n",
      "5         23  13478\n"
     ]
    }
   ],
   "execution_count": 44
  },
  {
   "metadata": {
    "ExecuteTime": {
     "end_time": "2024-10-05T19:16:41.905273Z",
     "start_time": "2024-10-05T19:16:41.892979Z"
    }
   },
   "cell_type": "code",
   "source": [
    "# count the number of distinct UMLS ids that have a \"bad\" in df\n",
    "bad_umls = df[df['correct'] == 'bad']['UMLS'].unique()"
   ],
   "id": "8d1deda2eb931d15",
   "outputs": [],
   "execution_count": 45
  },
  {
   "metadata": {
    "ExecuteTime": {
     "end_time": "2024-10-05T19:16:46.959872Z",
     "start_time": "2024-10-05T19:16:46.955078Z"
    }
   },
   "cell_type": "code",
   "source": "len(bad_umls)",
   "id": "fea43451e146763d",
   "outputs": [
    {
     "data": {
      "text/plain": [
       "1307"
      ]
     },
     "execution_count": 46,
     "metadata": {},
     "output_type": "execute_result"
    }
   ],
   "execution_count": 46
  },
  {
   "metadata": {
    "ExecuteTime": {
     "end_time": "2024-10-05T19:16:49.957305Z",
     "start_time": "2024-10-05T19:16:49.950554Z"
    }
   },
   "cell_type": "code",
   "source": "bad_umls = df_highest_score[df_highest_score['correct'] == 'bad']['UMLS'].unique()",
   "id": "27d2383cb0410f03",
   "outputs": [],
   "execution_count": 47
  },
  {
   "metadata": {
    "ExecuteTime": {
     "end_time": "2024-10-05T19:16:51.283848Z",
     "start_time": "2024-10-05T19:16:51.278165Z"
    }
   },
   "cell_type": "code",
   "source": "len(bad_umls)",
   "id": "a3e429178da43e58",
   "outputs": [
    {
     "data": {
      "text/plain": [
       "1307"
      ]
     },
     "execution_count": 48,
     "metadata": {},
     "output_type": "execute_result"
    }
   ],
   "execution_count": 48
  },
  {
   "metadata": {
    "ExecuteTime": {
     "end_time": "2024-10-05T19:16:53.520215Z",
     "start_time": "2024-10-05T19:16:53.512041Z"
    }
   },
   "cell_type": "code",
   "source": [
    "#Count the number of distinct UMLS in df\n",
    "len(df['UMLS'].unique())"
   ],
   "id": "d7e5a1c4067a7b91",
   "outputs": [
    {
     "data": {
      "text/plain": [
       "13749"
      ]
     },
     "execution_count": 49,
     "metadata": {},
     "output_type": "execute_result"
    }
   ],
   "execution_count": 49
  },
  {
   "metadata": {
    "ExecuteTime": {
     "end_time": "2024-10-05T19:16:56.300217Z",
     "start_time": "2024-10-05T19:16:56.291909Z"
    }
   },
   "cell_type": "code",
   "source": [
    "#Count the number of distinct UMLS in df\n",
    "len(df_highest_score['UMLS'].unique())"
   ],
   "id": "f7c0ebddd107e489",
   "outputs": [
    {
     "data": {
      "text/plain": [
       "13749"
      ]
     },
     "execution_count": 50,
     "metadata": {},
     "output_type": "execute_result"
    }
   ],
   "execution_count": 50
  },
  {
   "metadata": {
    "ExecuteTime": {
     "end_time": "2024-10-05T19:17:35.817816Z",
     "start_time": "2024-10-05T19:17:35.804715Z"
    }
   },
   "cell_type": "code",
   "source": [
    "#show the rows of df_highest_score where correct is bad and score is 5\n",
    "df_highest_score[(df_highest_score['correct'] == 'good') & (df_highest_score['score'] == 0)]"
   ],
   "id": "3a9247398778ce57",
   "outputs": [
    {
     "data": {
      "text/plain": [
       "                UMLS         UniProtKB  score correct\n",
       "3838   UMLS:C1173690  UniProtKB:O75575      0    good\n",
       "6007   UMLS:C1313330  UniProtKB:Q9BSE5      0    good\n",
       "7211   UMLS:C1431847  UniProtKB:Q12981      0    good\n",
       "10541  UMLS:C1452063  UniProtKB:P61254      0    good\n",
       "12732  UMLS:C1531287  UniProtKB:Q96BP2      0    good\n",
       "14779  UMLS:C1670793  UniProtKB:Q71RS6      0    good\n",
       "14819  UMLS:C1674650  UniProtKB:B4DJQ5      0    good\n",
       "15679  UMLS:C1739931  UniProtKB:Q9P2P6      0    good\n",
       "17713  UMLS:C2607656  UniProtKB:Q8TEB9      0    good\n",
       "17997  UMLS:C2717540  UniProtKB:O43505      0    good\n",
       "18490  UMLS:C2933073  UniProtKB:Q9H8P0      0    good\n",
       "19085  UMLS:C3179247  UniProtKB:Q8IWW8      0    good\n",
       "20332  UMLS:C3657780  UniProtKB:Q96PU9      0    good\n",
       "20474  UMLS:C3660523  UniProtKB:Q9Y484      0    good\n",
       "20503  UMLS:C3710639  UniProtKB:Q6UXV4      0    good\n",
       "20976  UMLS:C3849184  UniProtKB:A9QM74      0    good\n",
       "21078  UMLS:C3849778  UniProtKB:Q9BUR5      0    good\n",
       "21639  UMLS:C4042366  UniProtKB:P12872      0    good\n",
       "21640  UMLS:C4042368  UniProtKB:O15131      0    good\n",
       "22222  UMLS:C4279315  UniProtKB:Q96EP9      0    good\n",
       "24079  UMLS:C5391706  UniProtKB:Q5T3F8      0    good\n",
       "24728  UMLS:C5690364  UniProtKB:O94886      0    good"
      ],
      "text/html": [
       "<div>\n",
       "<style scoped>\n",
       "    .dataframe tbody tr th:only-of-type {\n",
       "        vertical-align: middle;\n",
       "    }\n",
       "\n",
       "    .dataframe tbody tr th {\n",
       "        vertical-align: top;\n",
       "    }\n",
       "\n",
       "    .dataframe thead th {\n",
       "        text-align: right;\n",
       "    }\n",
       "</style>\n",
       "<table border=\"1\" class=\"dataframe\">\n",
       "  <thead>\n",
       "    <tr style=\"text-align: right;\">\n",
       "      <th></th>\n",
       "      <th>UMLS</th>\n",
       "      <th>UniProtKB</th>\n",
       "      <th>score</th>\n",
       "      <th>correct</th>\n",
       "    </tr>\n",
       "  </thead>\n",
       "  <tbody>\n",
       "    <tr>\n",
       "      <th>3838</th>\n",
       "      <td>UMLS:C1173690</td>\n",
       "      <td>UniProtKB:O75575</td>\n",
       "      <td>0</td>\n",
       "      <td>good</td>\n",
       "    </tr>\n",
       "    <tr>\n",
       "      <th>6007</th>\n",
       "      <td>UMLS:C1313330</td>\n",
       "      <td>UniProtKB:Q9BSE5</td>\n",
       "      <td>0</td>\n",
       "      <td>good</td>\n",
       "    </tr>\n",
       "    <tr>\n",
       "      <th>7211</th>\n",
       "      <td>UMLS:C1431847</td>\n",
       "      <td>UniProtKB:Q12981</td>\n",
       "      <td>0</td>\n",
       "      <td>good</td>\n",
       "    </tr>\n",
       "    <tr>\n",
       "      <th>10541</th>\n",
       "      <td>UMLS:C1452063</td>\n",
       "      <td>UniProtKB:P61254</td>\n",
       "      <td>0</td>\n",
       "      <td>good</td>\n",
       "    </tr>\n",
       "    <tr>\n",
       "      <th>12732</th>\n",
       "      <td>UMLS:C1531287</td>\n",
       "      <td>UniProtKB:Q96BP2</td>\n",
       "      <td>0</td>\n",
       "      <td>good</td>\n",
       "    </tr>\n",
       "    <tr>\n",
       "      <th>14779</th>\n",
       "      <td>UMLS:C1670793</td>\n",
       "      <td>UniProtKB:Q71RS6</td>\n",
       "      <td>0</td>\n",
       "      <td>good</td>\n",
       "    </tr>\n",
       "    <tr>\n",
       "      <th>14819</th>\n",
       "      <td>UMLS:C1674650</td>\n",
       "      <td>UniProtKB:B4DJQ5</td>\n",
       "      <td>0</td>\n",
       "      <td>good</td>\n",
       "    </tr>\n",
       "    <tr>\n",
       "      <th>15679</th>\n",
       "      <td>UMLS:C1739931</td>\n",
       "      <td>UniProtKB:Q9P2P6</td>\n",
       "      <td>0</td>\n",
       "      <td>good</td>\n",
       "    </tr>\n",
       "    <tr>\n",
       "      <th>17713</th>\n",
       "      <td>UMLS:C2607656</td>\n",
       "      <td>UniProtKB:Q8TEB9</td>\n",
       "      <td>0</td>\n",
       "      <td>good</td>\n",
       "    </tr>\n",
       "    <tr>\n",
       "      <th>17997</th>\n",
       "      <td>UMLS:C2717540</td>\n",
       "      <td>UniProtKB:O43505</td>\n",
       "      <td>0</td>\n",
       "      <td>good</td>\n",
       "    </tr>\n",
       "    <tr>\n",
       "      <th>18490</th>\n",
       "      <td>UMLS:C2933073</td>\n",
       "      <td>UniProtKB:Q9H8P0</td>\n",
       "      <td>0</td>\n",
       "      <td>good</td>\n",
       "    </tr>\n",
       "    <tr>\n",
       "      <th>19085</th>\n",
       "      <td>UMLS:C3179247</td>\n",
       "      <td>UniProtKB:Q8IWW8</td>\n",
       "      <td>0</td>\n",
       "      <td>good</td>\n",
       "    </tr>\n",
       "    <tr>\n",
       "      <th>20332</th>\n",
       "      <td>UMLS:C3657780</td>\n",
       "      <td>UniProtKB:Q96PU9</td>\n",
       "      <td>0</td>\n",
       "      <td>good</td>\n",
       "    </tr>\n",
       "    <tr>\n",
       "      <th>20474</th>\n",
       "      <td>UMLS:C3660523</td>\n",
       "      <td>UniProtKB:Q9Y484</td>\n",
       "      <td>0</td>\n",
       "      <td>good</td>\n",
       "    </tr>\n",
       "    <tr>\n",
       "      <th>20503</th>\n",
       "      <td>UMLS:C3710639</td>\n",
       "      <td>UniProtKB:Q6UXV4</td>\n",
       "      <td>0</td>\n",
       "      <td>good</td>\n",
       "    </tr>\n",
       "    <tr>\n",
       "      <th>20976</th>\n",
       "      <td>UMLS:C3849184</td>\n",
       "      <td>UniProtKB:A9QM74</td>\n",
       "      <td>0</td>\n",
       "      <td>good</td>\n",
       "    </tr>\n",
       "    <tr>\n",
       "      <th>21078</th>\n",
       "      <td>UMLS:C3849778</td>\n",
       "      <td>UniProtKB:Q9BUR5</td>\n",
       "      <td>0</td>\n",
       "      <td>good</td>\n",
       "    </tr>\n",
       "    <tr>\n",
       "      <th>21639</th>\n",
       "      <td>UMLS:C4042366</td>\n",
       "      <td>UniProtKB:P12872</td>\n",
       "      <td>0</td>\n",
       "      <td>good</td>\n",
       "    </tr>\n",
       "    <tr>\n",
       "      <th>21640</th>\n",
       "      <td>UMLS:C4042368</td>\n",
       "      <td>UniProtKB:O15131</td>\n",
       "      <td>0</td>\n",
       "      <td>good</td>\n",
       "    </tr>\n",
       "    <tr>\n",
       "      <th>22222</th>\n",
       "      <td>UMLS:C4279315</td>\n",
       "      <td>UniProtKB:Q96EP9</td>\n",
       "      <td>0</td>\n",
       "      <td>good</td>\n",
       "    </tr>\n",
       "    <tr>\n",
       "      <th>24079</th>\n",
       "      <td>UMLS:C5391706</td>\n",
       "      <td>UniProtKB:Q5T3F8</td>\n",
       "      <td>0</td>\n",
       "      <td>good</td>\n",
       "    </tr>\n",
       "    <tr>\n",
       "      <th>24728</th>\n",
       "      <td>UMLS:C5690364</td>\n",
       "      <td>UniProtKB:O94886</td>\n",
       "      <td>0</td>\n",
       "      <td>good</td>\n",
       "    </tr>\n",
       "  </tbody>\n",
       "</table>\n",
       "</div>"
      ]
     },
     "execution_count": 52,
     "metadata": {},
     "output_type": "execute_result"
    }
   ],
   "execution_count": 52
  },
  {
   "metadata": {},
   "cell_type": "code",
   "outputs": [],
   "execution_count": null,
   "source": "",
   "id": "7e444baf611ec204"
  }
 ],
 "metadata": {
  "kernelspec": {
   "display_name": "Python 3",
   "language": "python",
   "name": "python3"
  },
  "language_info": {
   "codemirror_mode": {
    "name": "ipython",
    "version": 2
   },
   "file_extension": ".py",
   "mimetype": "text/x-python",
   "name": "python",
   "nbconvert_exporter": "python",
   "pygments_lexer": "ipython2",
   "version": "2.7.6"
  }
 },
 "nbformat": 4,
 "nbformat_minor": 5
}
